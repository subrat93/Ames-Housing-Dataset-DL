{
 "cells": [
  {
   "cell_type": "markdown",
   "metadata": {},
   "source": [
    "# Import Required Libraries"
   ]
  },
  {
   "cell_type": "code",
   "execution_count": 23,
   "metadata": {},
   "outputs": [],
   "source": [
    "import pandas as pd\n",
    "import numpy as np\n",
    "from keras.models import Sequential\n",
    "from keras.layers import Dense, Dropout\n",
    "from keras import metrics\n",
    "\n",
    "from keras.wrappers.scikit_learn import KerasRegressor\n",
    "from keras.optimizers import SGD\n",
    "from sklearn.model_selection import cross_val_score\n",
    "from sklearn.model_selection import KFold\n",
    "from sklearn.preprocessing import StandardScaler\n",
    "from sklearn.pipeline import Pipeline\n",
    "\n",
    "from sklearn.preprocessing import LabelEncoder, OneHotEncoder\n"
   ]
  },
  {
   "cell_type": "markdown",
   "metadata": {},
   "source": [
    "# Read the preprocessed dataset"
   ]
  },
  {
   "cell_type": "code",
   "execution_count": 2,
   "metadata": {},
   "outputs": [
    {
     "data": {
      "text/plain": [
       "(1460, 80)"
      ]
     },
     "execution_count": 2,
     "metadata": {},
     "output_type": "execute_result"
    }
   ],
   "source": [
    "df = pd.read_csv('ames_housing_preprocessed.csv')\n",
    "df.shape"
   ]
  },
  {
   "cell_type": "code",
   "execution_count": 3,
   "metadata": {},
   "outputs": [
    {
     "data": {
      "text/html": [
       "<div>\n",
       "<style scoped>\n",
       "    .dataframe tbody tr th:only-of-type {\n",
       "        vertical-align: middle;\n",
       "    }\n",
       "\n",
       "    .dataframe tbody tr th {\n",
       "        vertical-align: top;\n",
       "    }\n",
       "\n",
       "    .dataframe thead th {\n",
       "        text-align: right;\n",
       "    }\n",
       "</style>\n",
       "<table border=\"1\" class=\"dataframe\">\n",
       "  <thead>\n",
       "    <tr style=\"text-align: right;\">\n",
       "      <th></th>\n",
       "      <th>Id</th>\n",
       "      <th>MSSubClass</th>\n",
       "      <th>MSZoning</th>\n",
       "      <th>LotFrontage</th>\n",
       "      <th>LotArea</th>\n",
       "      <th>Street</th>\n",
       "      <th>Alley</th>\n",
       "      <th>LotShape</th>\n",
       "      <th>LandContour</th>\n",
       "      <th>LotConfig</th>\n",
       "      <th>...</th>\n",
       "      <th>PoolArea</th>\n",
       "      <th>PoolQC</th>\n",
       "      <th>Fence</th>\n",
       "      <th>MiscFeature</th>\n",
       "      <th>MiscVal</th>\n",
       "      <th>MoSold</th>\n",
       "      <th>YrSold</th>\n",
       "      <th>SaleType</th>\n",
       "      <th>SaleCondition</th>\n",
       "      <th>SalePrice</th>\n",
       "    </tr>\n",
       "  </thead>\n",
       "  <tbody>\n",
       "    <tr>\n",
       "      <th>0</th>\n",
       "      <td>1</td>\n",
       "      <td>5</td>\n",
       "      <td>3</td>\n",
       "      <td>65.0</td>\n",
       "      <td>8450</td>\n",
       "      <td>1</td>\n",
       "      <td>1</td>\n",
       "      <td>3</td>\n",
       "      <td>3</td>\n",
       "      <td>4</td>\n",
       "      <td>...</td>\n",
       "      <td>0</td>\n",
       "      <td>3</td>\n",
       "      <td>4</td>\n",
       "      <td>1</td>\n",
       "      <td>0</td>\n",
       "      <td>1</td>\n",
       "      <td>2</td>\n",
       "      <td>8</td>\n",
       "      <td>4</td>\n",
       "      <td>12.247699</td>\n",
       "    </tr>\n",
       "    <tr>\n",
       "      <th>1</th>\n",
       "      <td>2</td>\n",
       "      <td>0</td>\n",
       "      <td>3</td>\n",
       "      <td>80.0</td>\n",
       "      <td>9600</td>\n",
       "      <td>1</td>\n",
       "      <td>1</td>\n",
       "      <td>3</td>\n",
       "      <td>3</td>\n",
       "      <td>2</td>\n",
       "      <td>...</td>\n",
       "      <td>0</td>\n",
       "      <td>3</td>\n",
       "      <td>4</td>\n",
       "      <td>1</td>\n",
       "      <td>0</td>\n",
       "      <td>4</td>\n",
       "      <td>1</td>\n",
       "      <td>8</td>\n",
       "      <td>4</td>\n",
       "      <td>12.109016</td>\n",
       "    </tr>\n",
       "    <tr>\n",
       "      <th>2</th>\n",
       "      <td>3</td>\n",
       "      <td>5</td>\n",
       "      <td>3</td>\n",
       "      <td>68.0</td>\n",
       "      <td>11250</td>\n",
       "      <td>1</td>\n",
       "      <td>1</td>\n",
       "      <td>0</td>\n",
       "      <td>3</td>\n",
       "      <td>4</td>\n",
       "      <td>...</td>\n",
       "      <td>0</td>\n",
       "      <td>3</td>\n",
       "      <td>4</td>\n",
       "      <td>1</td>\n",
       "      <td>0</td>\n",
       "      <td>8</td>\n",
       "      <td>2</td>\n",
       "      <td>8</td>\n",
       "      <td>4</td>\n",
       "      <td>12.317171</td>\n",
       "    </tr>\n",
       "    <tr>\n",
       "      <th>3</th>\n",
       "      <td>4</td>\n",
       "      <td>6</td>\n",
       "      <td>3</td>\n",
       "      <td>60.0</td>\n",
       "      <td>9550</td>\n",
       "      <td>1</td>\n",
       "      <td>1</td>\n",
       "      <td>0</td>\n",
       "      <td>3</td>\n",
       "      <td>0</td>\n",
       "      <td>...</td>\n",
       "      <td>0</td>\n",
       "      <td>3</td>\n",
       "      <td>4</td>\n",
       "      <td>1</td>\n",
       "      <td>0</td>\n",
       "      <td>1</td>\n",
       "      <td>0</td>\n",
       "      <td>8</td>\n",
       "      <td>0</td>\n",
       "      <td>11.849405</td>\n",
       "    </tr>\n",
       "    <tr>\n",
       "      <th>4</th>\n",
       "      <td>5</td>\n",
       "      <td>5</td>\n",
       "      <td>3</td>\n",
       "      <td>84.0</td>\n",
       "      <td>14260</td>\n",
       "      <td>1</td>\n",
       "      <td>1</td>\n",
       "      <td>0</td>\n",
       "      <td>3</td>\n",
       "      <td>2</td>\n",
       "      <td>...</td>\n",
       "      <td>0</td>\n",
       "      <td>3</td>\n",
       "      <td>4</td>\n",
       "      <td>1</td>\n",
       "      <td>0</td>\n",
       "      <td>11</td>\n",
       "      <td>2</td>\n",
       "      <td>8</td>\n",
       "      <td>4</td>\n",
       "      <td>12.429220</td>\n",
       "    </tr>\n",
       "  </tbody>\n",
       "</table>\n",
       "<p>5 rows × 80 columns</p>\n",
       "</div>"
      ],
      "text/plain": [
       "   Id  MSSubClass  MSZoning  LotFrontage  LotArea  Street  Alley  LotShape  \\\n",
       "0   1           5         3         65.0     8450       1      1         3   \n",
       "1   2           0         3         80.0     9600       1      1         3   \n",
       "2   3           5         3         68.0    11250       1      1         0   \n",
       "3   4           6         3         60.0     9550       1      1         0   \n",
       "4   5           5         3         84.0    14260       1      1         0   \n",
       "\n",
       "   LandContour  LotConfig    ...      PoolArea  PoolQC  Fence  MiscFeature  \\\n",
       "0            3          4    ...             0       3      4            1   \n",
       "1            3          2    ...             0       3      4            1   \n",
       "2            3          4    ...             0       3      4            1   \n",
       "3            3          0    ...             0       3      4            1   \n",
       "4            3          2    ...             0       3      4            1   \n",
       "\n",
       "   MiscVal  MoSold  YrSold  SaleType  SaleCondition  SalePrice  \n",
       "0        0       1       2         8              4  12.247699  \n",
       "1        0       4       1         8              4  12.109016  \n",
       "2        0       8       2         8              4  12.317171  \n",
       "3        0       1       0         8              0  11.849405  \n",
       "4        0      11       2         8              4  12.429220  \n",
       "\n",
       "[5 rows x 80 columns]"
      ]
     },
     "execution_count": 3,
     "metadata": {},
     "output_type": "execute_result"
    }
   ],
   "source": [
    "df.head()"
   ]
  },
  {
   "cell_type": "code",
   "execution_count": 4,
   "metadata": {},
   "outputs": [],
   "source": [
    "del df['Id']"
   ]
  },
  {
   "cell_type": "code",
   "execution_count": 5,
   "metadata": {},
   "outputs": [
    {
     "data": {
      "text/plain": [
       "(1460, 79)"
      ]
     },
     "execution_count": 5,
     "metadata": {},
     "output_type": "execute_result"
    }
   ],
   "source": [
    "df.shape"
   ]
  },
  {
   "cell_type": "markdown",
   "metadata": {},
   "source": [
    "# Split the data into features and target"
   ]
  },
  {
   "cell_type": "code",
   "execution_count": 6,
   "metadata": {},
   "outputs": [],
   "source": [
    "X = df.copy(deep=True)\n",
    "del X['SalePrice']"
   ]
  },
  {
   "cell_type": "code",
   "execution_count": 7,
   "metadata": {},
   "outputs": [
    {
     "data": {
      "text/plain": [
       "(1460, 79)"
      ]
     },
     "execution_count": 7,
     "metadata": {},
     "output_type": "execute_result"
    }
   ],
   "source": [
    "df.shape"
   ]
  },
  {
   "cell_type": "code",
   "execution_count": 8,
   "metadata": {},
   "outputs": [
    {
     "data": {
      "text/plain": [
       "(1460, 78)"
      ]
     },
     "execution_count": 8,
     "metadata": {},
     "output_type": "execute_result"
    }
   ],
   "source": [
    "X.shape"
   ]
  },
  {
   "cell_type": "code",
   "execution_count": 9,
   "metadata": {},
   "outputs": [],
   "source": [
    "y = df['SalePrice']"
   ]
  },
  {
   "cell_type": "markdown",
   "metadata": {},
   "source": [
    "# Treat Categorical Data with OneHotEncoding"
   ]
  },
  {
   "cell_type": "code",
   "execution_count": 10,
   "metadata": {},
   "outputs": [],
   "source": [
    "cols = ('FireplaceQu', 'BsmtQual', 'BsmtCond', 'GarageQual', 'GarageCond', \n",
    "        'ExterQual', 'ExterCond','HeatingQC', 'PoolQC', 'KitchenQual', 'BsmtFinType1', \n",
    "        'BsmtFinType2', 'Functional', 'Fence', 'BsmtExposure', 'GarageFinish', 'LandSlope',\n",
    "        'LotShape', 'PavedDrive', 'Street', 'Alley', 'CentralAir', 'MSSubClass', 'OverallCond', \n",
    "        'YrSold', 'MoSold', 'MSZoning', 'LandContour', 'LotConfig', 'Neighborhood',\n",
    "        'Condition1', 'Condition2', 'BldgType', 'HouseStyle', 'RoofStyle', 'RoofMatl', 'Exterior1st',\n",
    "        'Exterior2nd', 'MasVnrType', 'MasVnrArea', 'Foundation', 'GarageType', 'MiscFeature', \n",
    "        'SaleType', 'SaleCondition', 'Electrical', 'Heating')\n",
    "colIndex = [X.columns.get_loc(c) for c in cols if c in X]"
   ]
  },
  {
   "cell_type": "code",
   "execution_count": 11,
   "metadata": {},
   "outputs": [
    {
     "name": "stderr",
     "output_type": "stream",
     "text": [
      "C:\\Users\\Z003Z4FY.AD001\\AppData\\Local\\Continuum\\anaconda3\\lib\\site-packages\\sklearn\\preprocessing\\_encoders.py:415: FutureWarning: The handling of integer data will change in version 0.22. Currently, the categories are determined based on the range [0, max(values)], while in the future they will be determined based on the unique values.\n",
      "If you want the future behaviour and silence this warning, you can specify \"categories='auto'\".\n",
      "In case you used a LabelEncoder before this OneHotEncoder to convert the categories to integers, then you can now use the OneHotEncoder directly.\n",
      "  warnings.warn(msg, FutureWarning)\n",
      "C:\\Users\\Z003Z4FY.AD001\\AppData\\Local\\Continuum\\anaconda3\\lib\\site-packages\\sklearn\\preprocessing\\_encoders.py:451: DeprecationWarning: The 'categorical_features' keyword is deprecated in version 0.20 and will be removed in 0.22. You can use the ColumnTransformer instead.\n",
      "  \"use the ColumnTransformer instead.\", DeprecationWarning)\n"
     ]
    }
   ],
   "source": [
    "onehotencoder = OneHotEncoder(categorical_features = colIndex)\n",
    "X_OHE = pd.DataFrame(onehotencoder.fit_transform(X).toarray())"
   ]
  },
  {
   "cell_type": "code",
   "execution_count": 12,
   "metadata": {},
   "outputs": [
    {
     "data": {
      "text/plain": [
       "(1460, 659)"
      ]
     },
     "execution_count": 12,
     "metadata": {},
     "output_type": "execute_result"
    }
   ],
   "source": [
    "X_OHE.shape"
   ]
  },
  {
   "cell_type": "markdown",
   "metadata": {},
   "source": [
    "# Split the dataset"
   ]
  },
  {
   "cell_type": "code",
   "execution_count": 13,
   "metadata": {},
   "outputs": [],
   "source": [
    "# Split data into train and test formate\n",
    "from sklearn.model_selection import train_test_split\n",
    "X_train, X_test, y_train, y_test = train_test_split(X_OHE, y, test_size=0.2, random_state=7)"
   ]
  },
  {
   "cell_type": "markdown",
   "metadata": {},
   "source": [
    "# Define the Model / Network"
   ]
  },
  {
   "cell_type": "code",
   "execution_count": 74,
   "metadata": {},
   "outputs": [],
   "source": [
    "# define base model\n",
    "def baseline_model():\n",
    "    # create model\n",
    "    model = Sequential()\n",
    "    model.add(Dense(1536, input_dim=659, kernel_initializer='normal', activation='relu'))\n",
    "#     model.add(Dropout(0.1))\n",
    "#     model.add(Dense(1344, kernel_initializer='normal', activation='relu')) # 1\n",
    "    model.add(Dense(1152, kernel_initializer='normal', activation='relu'))\n",
    "#     model.add(Dense(1024, kernel_initializer='normal', activation='relu')) # 1\n",
    "#     model.add(Dropout(0.2))\n",
    "    model.add(Dense(896, kernel_initializer='normal', activation='relu'))\n",
    "    model.add(Dense(704, kernel_initializer='normal', activation='relu'))\n",
    "#     model.add(Dense(544, kernel_initializer='normal', activation='relu')) # 1\n",
    "#     model.add(Dropout(0.2))\n",
    "# #  last baseline start\n",
    "    model.add(Dense(448, kernel_initializer='normal', activation='relu'))\n",
    "#     model.add(Dropout(0.1))\n",
    "    model.add(Dense(256, kernel_initializer='normal', activation='relu'))\n",
    "#     model.add(Dropout(0.2))\n",
    "    model.add(Dense(144, kernel_initializer='normal', activation='relu'))\n",
    "#     model.add(Dropout(0.2))\n",
    "    model.add(Dense(70, kernel_initializer='normal', activation='relu'))\n",
    "#     model.add(Dropout(0.2))\n",
    "    model.add(Dense(36, kernel_initializer='normal', activation='relu'))\n",
    "#     model.add(Dense(18, kernel_initializer='normal', activation='relu')) # 1\n",
    "    model.add(Dense(8, kernel_initializer='normal', activation='relu'))\n",
    "#     model.add(Dense(4, kernel_initializer='normal', activation='relu')) # 1\n",
    "# #   last baseline end\n",
    "#     model.add(Dropout(0.2))\n",
    "#     model.add(Dense(80, kernel_initializer='normal', activation='relu'))\n",
    "#     model.add(Dropout(0.2))\n",
    "#     model.add(Dense(56, kernel_initializer='normal', activation='relu'))\n",
    "#     model.add(Dropout(0.2))\n",
    "#     model.add(Dense(24, kernel_initializer='normal', activation='relu'))\n",
    "#     model.add(Dropout(0.2))\n",
    "#     model.add(Dense(12, kernel_initializer='normal', activation='relu'))\n",
    "#     model.add(Dropout(0.2))\n",
    "#     model.add(Dense(4, kernel_initializer='normal', activation='relu'))\n",
    "#     model.add(Dropout(0.2))\n",
    "    model.add(Dense(1, kernel_initializer='normal'))\n",
    "    \n",
    "#     sgd = SGD(lr=0.01, momentum=0.8, decay=0.1)\n",
    "    # Compile model\n",
    "#     model.compile(loss='mean_squared_error', optimizer='adam', metrics=[metrics.mae, metrics.categorical_accuracy])\n",
    "    model.compile(loss='mean_squared_error', optimizer='adam', metrics=[metrics.mae, metrics.mse])\n",
    "    return model"
   ]
  },
  {
   "cell_type": "code",
   "execution_count": null,
   "metadata": {},
   "outputs": [],
   "source": [
    "\n",
    "from keras.callbacks import EarlyStopping\n",
    "# simple early stopping\n",
    "es = EarlyStopping(monitor='val_loss', verbose=1)\n",
    "\n",
    "# evaluate model with standardized dataset\n",
    "estimators = []\n",
    "# estimators.append(('standardize', StandardScaler()))\n",
    "estimators.append(('mlp', KerasRegressor(build_fn=baseline_model, epochs=65, batch_size=5, verbose=0)))\n",
    "pipeline = Pipeline(estimators)\n",
    "# kfold = KFold(n_splits=10)\n",
    "# results = cross_val_score(pipeline, X_train, y_train)\n",
    "# print(results)\n",
    "# print(\"%.2f (%.2f) RMSE\" % (np.sqrt(abs(results.mean())), results.std()))\n",
    "\n",
    "pipeline.fit(X_train, y_train)\n",
    "prediction = pipeline.predict(X_test)\n",
    "# accuracy_score(y, prediction)"
   ]
  },
  {
   "cell_type": "code",
   "execution_count": 76,
   "metadata": {},
   "outputs": [
    {
     "data": {
      "text/plain": [
       "array([11.88307  , 12.144483 , 11.994382 , 11.516606 , 11.64677  ,\n",
       "       12.39386  , 11.816831 , 11.442051 , 11.76962  , 11.639763 ,\n",
       "       12.1228   , 11.822619 , 11.456859 , 11.965747 , 12.041239 ,\n",
       "       11.902916 , 12.173543 , 11.861756 , 11.595575 , 11.634294 ,\n",
       "       11.951531 , 11.737838 , 11.474831 , 12.340887 , 12.43928  ,\n",
       "       11.650148 , 11.372947 , 11.864032 , 12.114497 , 11.515336 ,\n",
       "       11.950676 , 12.157028 , 12.463193 , 12.324316 , 11.977704 ,\n",
       "       12.28049  , 11.563451 , 11.64045  , 12.342609 , 12.170265 ,\n",
       "       11.4026375, 11.8802395, 11.790701 , 11.869895 , 12.300369 ,\n",
       "       12.103766 , 11.958725 , 11.928058 , 12.396799 , 12.211249 ,\n",
       "       12.189862 , 11.890883 , 11.899503 , 12.101077 , 11.521686 ,\n",
       "       11.503634 , 12.994422 , 11.854377 , 12.11477  , 12.005037 ,\n",
       "       11.844972 , 12.246424 , 11.574608 , 11.499643 , 11.475742 ,\n",
       "       11.960121 , 11.565345 , 11.955793 , 11.821952 , 11.933886 ,\n",
       "       12.111592 , 11.890682 , 11.312657 , 11.603841 , 12.466968 ,\n",
       "       12.799051 , 11.878611 , 11.409838 , 11.797755 , 11.184089 ,\n",
       "       11.682062 , 12.69152  , 11.9344015, 12.521131 , 12.637921 ,\n",
       "       11.655611 , 11.51162  , 11.723221 , 12.72855  , 11.244875 ,\n",
       "       12.521764 , 11.788302 , 12.811501 , 11.547843 , 11.5026655,\n",
       "       11.916103 , 12.091242 , 11.738692 , 11.727921 , 12.175991 ,\n",
       "       11.720547 , 11.739006 , 12.119762 , 11.956994 , 11.6437235,\n",
       "       12.1509905, 11.620092 , 12.258207 , 11.986589 , 11.64885  ,\n",
       "       11.228653 , 11.296302 , 12.09298  , 12.160545 , 12.17115  ,\n",
       "       11.671633 , 11.653344 , 11.467839 , 12.173008 , 12.080128 ,\n",
       "       11.46282  , 12.125366 , 12.310362 , 11.622816 , 12.185957 ,\n",
       "       12.255883 , 11.909905 , 12.675594 , 11.868772 , 11.635152 ,\n",
       "       11.804914 , 11.849341 , 11.473405 , 11.387651 , 12.248106 ,\n",
       "       12.228505 , 12.156008 , 11.752579 , 11.981041 , 11.47314  ,\n",
       "       11.415158 , 12.342037 , 11.502301 , 12.565714 , 12.512307 ,\n",
       "       12.673899 , 11.269868 , 12.413764 , 12.430584 , 11.39109  ,\n",
       "       11.724979 , 12.215701 , 11.694023 , 11.663479 , 12.166933 ,\n",
       "       11.314723 , 11.856572 , 12.040685 , 12.183861 , 11.761998 ,\n",
       "       12.070237 , 11.74036  , 12.492626 , 12.083998 , 13.25736  ,\n",
       "       12.48943  , 11.495684 , 11.541634 , 11.701813 , 11.817559 ,\n",
       "       11.381919 , 11.671547 , 12.233182 , 12.057728 , 12.272159 ,\n",
       "       12.481873 , 11.722234 , 11.654617 , 11.620291 , 11.878157 ,\n",
       "       11.563173 , 11.699845 , 11.688227 , 11.673087 , 12.01178  ,\n",
       "       11.373742 , 12.122509 , 12.18161  , 11.817618 , 12.249846 ,\n",
       "       11.596547 , 11.569417 , 11.726471 , 12.162239 , 11.698343 ,\n",
       "       11.702261 , 11.4571495, 11.260679 , 12.336942 , 11.51246  ,\n",
       "       12.383867 , 11.678127 , 12.124607 , 11.780034 , 11.888138 ,\n",
       "       11.881446 , 11.518811 , 11.8714485, 11.351875 , 12.448394 ,\n",
       "       12.382458 , 11.913504 , 11.77477  , 11.731935 , 11.95917  ,\n",
       "       11.719617 , 11.880643 , 11.513479 , 11.337758 , 11.5102   ,\n",
       "       12.145514 , 11.228354 , 11.705557 , 11.428622 , 11.455929 ,\n",
       "       11.315877 , 11.645645 , 12.216773 , 11.737847 , 11.676226 ,\n",
       "       11.326623 , 11.8921   , 11.959352 , 11.549633 , 11.713505 ,\n",
       "       11.436827 , 11.139649 , 12.599699 , 11.56563  , 11.428647 ,\n",
       "       11.743212 , 11.802158 , 11.571231 , 12.109166 , 12.418709 ,\n",
       "       11.43309  , 11.977601 , 11.831528 , 12.588773 , 11.758252 ,\n",
       "       12.340881 , 12.159185 , 12.261047 , 11.845123 , 12.05233  ,\n",
       "       11.272047 , 11.329673 , 12.26915  , 11.044545 , 12.404489 ,\n",
       "       11.76189  , 11.7703285, 11.528299 , 12.44773  , 11.785899 ,\n",
       "       11.895804 , 11.301505 , 11.861944 , 11.375839 , 11.991608 ,\n",
       "       12.080852 , 11.912294 , 12.392156 , 11.921106 , 11.7434225,\n",
       "       13.264861 , 12.104528 , 12.111391 , 12.163931 , 11.878184 ,\n",
       "       12.003608 , 11.522171 , 11.572103 , 11.177849 , 11.951956 ,\n",
       "       12.265595 , 11.744466 , 11.588637 , 11.630451 , 11.898048 ,\n",
       "       11.582707 , 12.284364 ], dtype=float32)"
      ]
     },
     "execution_count": 76,
     "metadata": {},
     "output_type": "execute_result"
    }
   ],
   "source": [
    "prediction"
   ]
  },
  {
   "cell_type": "code",
   "execution_count": 77,
   "metadata": {},
   "outputs": [
    {
     "name": "stdout",
     "output_type": "stream",
     "text": [
      "RMSE: 0.218916\n",
      "MAE: 0.185507\n",
      "R Squared: 0.714006\n",
      "Adj. R Squared: 0.697853\n"
     ]
    }
   ],
   "source": [
    "from sklearn.metrics import mean_squared_error\n",
    "from sklearn.metrics import mean_absolute_error\n",
    "from sklearn.metrics import r2_score\n",
    "rmse = np.sqrt(mean_squared_error(y_test, prediction))\n",
    "mae = mean_absolute_error(y_test, prediction)\n",
    "r2 = r2_score(y_test, prediction)\n",
    "adj_r2 = 1-(1-r2)*(X.shape[0]-1)/(X.shape[0]-X.shape[1]-1)\n",
    "print(\"RMSE: %f\" % (rmse))\n",
    "print(\"MAE: %f\" % (mae))\n",
    "print(\"R Squared: %f\" % (r2))\n",
    "print(\"Adj. R Squared: %f\" % (adj_r2))"
   ]
  },
  {
   "cell_type": "code",
   "execution_count": null,
   "metadata": {},
   "outputs": [],
   "source": []
  }
 ],
 "metadata": {
  "kernelspec": {
   "display_name": "Python 3",
   "language": "python",
   "name": "python3"
  },
  "language_info": {
   "codemirror_mode": {
    "name": "ipython",
    "version": 3
   },
   "file_extension": ".py",
   "mimetype": "text/x-python",
   "name": "python",
   "nbconvert_exporter": "python",
   "pygments_lexer": "ipython3",
   "version": "3.7.1"
  }
 },
 "nbformat": 4,
 "nbformat_minor": 2
}
